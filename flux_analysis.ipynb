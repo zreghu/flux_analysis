{
  "nbformat": 4,
  "nbformat_minor": 0,
  "metadata": {
    "colab": {
      "name": "flux_analysis.ipynb",
      "provenance": [],
      "collapsed_sections": [
        "5f516_LXqMji",
        "ptpPHRDwzNpI",
        "Bp3tgGlYzG7U"
      ]
    },
    "kernelspec": {
      "name": "python3",
      "display_name": "Python 3"
    },
    "language_info": {
      "name": "python"
    }
  },
  "cells": [
    {
      "cell_type": "code",
      "metadata": {
        "id": "CrjjJ-SCps2h"
      },
      "source": [
        "import pandas as pd\n",
        "import autograd.numpy as np\n",
        "from scipy.optimize import minimize\n",
        "import matplotlib.pyplot as plt\n",
        "from autograd import grad, jacobian, hessian"
      ],
      "execution_count": null,
      "outputs": []
    },
    {
      "cell_type": "markdown",
      "metadata": {
        "id": "5f516_LXqMji"
      },
      "source": [
        "# Read in Data"
      ]
    },
    {
      "cell_type": "code",
      "metadata": {
        "id": "czCbKr_bqJdn"
      },
      "source": [
        "# Read a formatted csv with [A],[B],Ra,Rd,constant,constant_value \n",
        "# Constants needed are \"hbd_yo\", \"ekt\", and \"Ksp\"\n",
        "def get_data_from_csv(filename):\n",
        "    df = pd.read_csv(filename) \n",
        "    A = df['A'].to_numpy(dtype='float64')\n",
        "    B = df['B'].to_numpy(dtype='float64')\n",
        "    R_a = df['Ra'].to_numpy(dtype='float64')\n",
        "    R_d = df['Rd'].to_numpy(dtype='float64')\n",
        "    constants = {}\n",
        "    for i in range(len(df['constant'])):\n",
        "        if not pd.isna(df['constant'][i]):\n",
        "            constants[df['constant'][i]] = df['constant_value'][i]\n",
        "    return A, B, R_a, R_d, constants"
      ],
      "execution_count": null,
      "outputs": []
    },
    {
      "cell_type": "markdown",
      "metadata": {
        "id": "ptpPHRDwzNpI"
      },
      "source": [
        "# Equations"
      ]
    },
    {
      "cell_type": "markdown",
      "metadata": {
        "id": "dNNKcGdarBy1"
      },
      "source": [
        "The function `find_var` computes rho, Pa, and Pb which are used by `find_R_a` and `find_R_b` to find the attachment and detachment rates. \n",
        "\n",
        "For given inputs, $[A],[B],v_a,v_b,k_a,k_b$ with constants $K_{sp}, \\epsilon/kt$\n",
        "\n",
        "$S = \\sqrt{\\frac{[A][B]}{K_{sp}}}$\n",
        "\n",
        "$i_{super,A} = 2 * e^{-2\\epsilon / kt} (S^2 - 1)\\frac{v_bk_a[A]}{k_a[A] + v_b}$\n",
        "\n",
        "$i_{super,B} = 2 * e^{-2\\epsilon/kt}(S^2 - 1)\\frac{v_ak_b[B]}{k_b[B]+v_a}$\n",
        "\n",
        "$i_{super} = \\frac{i_{super,A} + i_{super,B}}{2}$\n",
        "\n",
        "$i_{under} = \\Big(\\frac{v_av_be^{-2\\epsilon/kt}}{(2-S^2)v_b + k_a[A]} + \\frac{v_av_be^{-2\\epsilon/kt}}{(2-S^2)v_a + k_b [B]}\\Big)(1-S^2)$\n",
        "\n",
        "$i = \\max(i_{super},i_{under})$\n",
        "\n",
        "$u = \\Big|2\\frac{k_ak_b[A][B] - v_av_b}{k_a[A] + k_b[B] + v_a + v_b}\\Big|$\n",
        "\n",
        "$\\rho = \\sqrt{\\frac{2i}{u}}$\n",
        "\n",
        "$P_a = \\frac{k_a[A] + v_b}{k_a[A] + k_b[B] + v_a + v_b}$\n",
        "\n",
        "$P_b = \\frac{k_b[B] + v_a}{k_a[A] + k_b[B] + v_a + v_b}$\n",
        "\n",
        "`find_var` returns the values for $\\rho, P_a, P_b$\n",
        "\n",
        "Then you can compute $R_a, R_d$ using these formulas\n",
        "\n",
        "$R_a  = \\rho \\cdot k_a [A] P_b (\\frac{hbd}{y_0})$\n",
        "\n",
        "$R_d = \\rho \\cdot v_a P_a (\\frac{hbd}{y_0})$\n",
        "\n",
        "\n"
      ]
    },
    {
      "cell_type": "code",
      "metadata": {
        "id": "rLWsfhb2rAxv"
      },
      "source": [
        "# Equations\n",
        "def find_var(v_a, v_b, k_a, k_b, A, B, constants):\n",
        "    Ksp = constants[\"Ksp\"]\n",
        "    ekt = constants[\"ekt\"]\n",
        "\n",
        "    S = np.sqrt(A * B / Ksp)\n",
        "\n",
        "    i_A = 2 * np.exp(-2 * ekt) * (S**2 - 1) * (v_b * k_a * A)/(k_a * A + v_b)\n",
        "    i_B = 2 * np.exp(-2 * ekt) * (S**2 - 1) * (v_a * k_b * B) / (k_b * B + v_a)\n",
        "    i_super = (i_A + i_B) / 2\n",
        "    i_under = ((v_a * v_b * np.exp(-2 * ekt))/((2 - S**2) * v_b + k_a * A) + ((v_a * v_b * np.exp(-2 * ekt)) / ((2 - S**2) * v_a + k_b * B))) * (1 - S**2)\n",
        "\n",
        "    i = np.maximum(i_super,i_under)\n",
        "\n",
        "    u = np.abs(2 *(k_a * k_b * A * B - v_a * v_b) / (k_a * A + k_b * B + v_a + v_b))\n",
        "\n",
        "    rho = np.sqrt(2 * i / u)\n",
        "\n",
        "    P_a = (k_a * A + v_b) / (k_a * A + k_b * B + v_a + v_b)\n",
        "    P_b = (k_b * B + v_a) / (k_a * A + k_b * B + v_a + v_b) \n",
        "\n",
        "    return rho, P_a, P_b\n",
        "\n",
        "def find_R_a(v_a, v_b, k_a, k_b, A, B, constants):\n",
        "    hbd_yo = constants[\"hbd_yo\"]\n",
        "    rho, P_a, P_b = find_var(v_a, v_b, k_a, k_b, A, B, constants)\n",
        "\n",
        "    R_a = rho * k_a * A * P_b * hbd_yo\n",
        "    return R_a * 10**9\n",
        "\n",
        "def find_R_d(v_a, v_b, k_a, k_b, A, B, constants):\n",
        "    hbd_yo = constants[\"hbd_yo\"]\n",
        "    rho, P_a, P_b = find_var(v_a, v_b, k_a, k_b, A, B, constants)\n",
        "\n",
        "    R_d = rho * v_a * P_a * hbd_yo\n",
        "    return R_d * 10**9"
      ],
      "execution_count": null,
      "outputs": []
    },
    {
      "cell_type": "markdown",
      "metadata": {
        "id": "aJDing3cu_6Q"
      },
      "source": [
        "Calculate the residuals. Given experimental data arrays $R^{exp}_a, R^{exp}_d$ of size n x 1\n",
        "\n",
        "we calculate the loss function as \n",
        "\n",
        "$\\mathcal{L}(v_a,v_b,k_a,k_b,constants) = \\sum_{i = 1}^{n} (R^{exp}_{a,i} - R^{fit}_{a,i})^2 + \\sum_{j = 1}^n (R^{exp}_{d,j} - R^{fit}_{d,j})^2$\n",
        "\n",
        "This is the residual sum square of all the data."
      ]
    },
    {
      "cell_type": "code",
      "metadata": {
        "id": "CP-jKulZu_Fc"
      },
      "source": [
        "def residual_R_a(x, A, B, R_d, R_a, constants):\n",
        "    return find_R_a(*x, A, B,constants) - R_a\n",
        "\n",
        "def residual_R_d(x, A, B, R_d, R_a, constants):\n",
        "    return find_R_d(*x,A,B, constants) - R_d\n",
        "\n",
        "def residual_R(x, A, B, R_d, R_a, constants):\n",
        "    return (find_R_d(*x,A,B, constants) - R_d) + (find_R_a(*x, A, B, constants) - R_a)\n",
        "\n",
        "def minimize_R(x, A, B, R_d, R_a, constants):\n",
        "    return np.sum(np.square(residual_R(x, A, B, R_d, R_a, constants)))"
      ],
      "execution_count": null,
      "outputs": []
    },
    {
      "cell_type": "markdown",
      "metadata": {
        "id": "Bp3tgGlYzG7U"
      },
      "source": [
        "# Plot Function"
      ]
    },
    {
      "cell_type": "code",
      "metadata": {
        "id": "XcDpMWUTzGBI"
      },
      "source": [
        "# Plotting\n",
        "def plot_flux(A, B, R_d, R_a, constants, parameters):\n",
        "    x = A / B\n",
        "    x_sort = x.argsort()\n",
        "\n",
        "    plt.plot(x, R_d,'o',label=\"J+\")\n",
        "    plt.plot(x[x_sort], find_R_d(*parameters,A[x_sort], B[x_sort], constants),'o',label=\"min_fit\")\n",
        "    plt.ylabel('J')\n",
        "    plt.xlabel('[A] / [B]')\n",
        "    plt.xscale('log')\n",
        "    plt.legend()\n",
        "    plt.show()\n",
        "\n",
        "    plt.plot(x, R_a, 'o',label=\"J-\")\n",
        "    plt.plot(x[x_sort], find_R_a(*parameters,A[x_sort], B[x_sort], constants),'o',label=\"fit\")\n",
        "    plt.ylabel('J')\n",
        "    plt.xlabel('[A] / [B]')\n",
        "    plt.xscale('log')\n",
        "    plt.legend()\n",
        "    plt.show()"
      ],
      "execution_count": null,
      "outputs": []
    },
    {
      "cell_type": "markdown",
      "metadata": {
        "id": "7ifT2Tu3zYFw"
      },
      "source": [
        "# Begin Program"
      ]
    },
    {
      "cell_type": "code",
      "metadata": {
        "id": "9I07-AhFzTFu"
      },
      "source": [
        "#%% Begin Program\n",
        "\n",
        "# Filename\n",
        "file = \"\"\n",
        "\n",
        "# Get Data\n",
        "A, B, R_d, R_a, constants = get_data_from_csv(file)\n",
        "\n",
        "# Set Initial Value (Based on experimentation, we've determine that this is a good initial guess)\n",
        "x0 = np.array([1.88593864e+01, 2.04204732e+01, 5.39999999e+05, 7.45500000e+06])\n",
        "\n",
        "# Optimize\n",
        "# We use 'trust-ncg' or trust-region Newton conjugate gradient method since of the optimization algorithms in \n",
        "# scipy this seemed to be the most robust. You can change the \"method\" parameter to use different optimizations.\n",
        "# to learn more see https://docs.scipy.org/doc/scipy/reference/generated/scipy.optimize.minimize.html\n",
        "min_lsq = minimize(minimize_R, x0, jac=jacobian(minimize_R), hess=hessian(minimize_R),args=(A,B,R_d,R_a,constants),method='trust-ncg', options={'maxiter':5000})\n",
        "print(min_lsq)\n",
        "\n",
        "# Plot\n",
        "plot_flux(A, B, R_d, R_a, constants, min_lsq.x)\n",
        "\n",
        "#%% See how much progress with residual sum squared\n",
        "print(\"Initial R_a: \",np.sum(np.square(residual_R_a(x0, A, B, R_d, R_a, constants))))\n",
        "print(\"Initial R_d: \",np.sum(np.square(residual_R_d(x0, A, B, R_d, R_a, constants))))\n",
        "print(\"Fitted R_a: \",np.sum(np.square(residual_R_a(min_lsq.x, A, B, R_d, R_a, constants))))\n",
        "print(\"Fitted R_d: \",np.sum(np.square(residual_R_d(min_lsq.x, A, B, R_d, R_a, constants))))\n"
      ],
      "execution_count": null,
      "outputs": []
    }
  ]
}