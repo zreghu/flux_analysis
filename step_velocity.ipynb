{
  "nbformat": 4,
  "nbformat_minor": 0,
  "metadata": {
    "colab": {
      "name": "step_velocity.ipynb",
      "provenance": [],
      "collapsed_sections": []
    },
    "kernelspec": {
      "name": "python3",
      "display_name": "Python 3"
    },
    "language_info": {
      "name": "python"
    }
  },
  "cells": [
    {
      "cell_type": "code",
      "metadata": {
        "id": "YncqOgZ9eb2T"
      },
      "source": [
        "import pandas as pd\n",
        "import autograd.numpy as np\n",
        "from scipy.optimize import least_squares\n",
        "from scipy.optimize import minimize\n",
        "from scipy.optimize import LinearConstraint, Bounds, NonlinearConstraint\n",
        "from autograd import grad, jacobian, hessian\n",
        "from scipy import optimize\n",
        "import matplotlib.pyplot as plt"
      ],
      "execution_count": null,
      "outputs": []
    },
    {
      "cell_type": "markdown",
      "metadata": {
        "id": "fP67zFIlgWqC"
      },
      "source": [
        "# Read Data"
      ]
    },
    {
      "cell_type": "code",
      "metadata": {
        "id": "TqRtOAiTfOxx"
      },
      "source": [
        "def get_data():\n",
        "    data = pd.read_csv(f\"data/kowacz_data.csv\")\n",
        "    data = pd.concat([data,pd.read_csv(f\"data/Kowacz 2007 data.csv\")],axis=1)\n",
        "    Ba = data['Ba'].to_numpy(dtype=\"float64\") * 1e-06\n",
        "    SO4 = data['SO4'].to_numpy(dtype=\"float64\") * 1e-06\n",
        "    step_v = data['growth rate'].to_numpy(dtype=\"float64\")\n",
        "    return Ba, SO4, step_v\n",
        "    \n",
        "def get_constants():\n",
        "    df = pd.read_excel(io='data/Flux_analysis_cleancopy-cz.xlsx',sheet_name='model d')\n",
        "    hbd_yo = df.iloc[15,34]\n",
        "    ekt = df.iloc[8,34]\n",
        "    Ksp = df.iloc[13,34]\n",
        "    hbd = np.prod(df.iloc[9:12,34].to_numpy(dtype='float64'))\n",
        "    h = df.iloc[9,34]\n",
        "    yo = 120 * 10e-09\n",
        "    hbd_yo = hbd / yo\n",
        "    constants = { \"ekt\": ekt, \"Ksp\": Ksp, \"hbd\": hbd, \"h\": h, \"yo\":yo }\n",
        "    return constants"
      ],
      "execution_count": null,
      "outputs": []
    },
    {
      "cell_type": "markdown",
      "metadata": {
        "id": "DB1_E03_gyVc"
      },
      "source": [
        "# Step Velocity Functions"
      ]
    },
    {
      "cell_type": "code",
      "metadata": {
        "id": "hRAy2y6ufTES"
      },
      "source": [
        "def get_v_b(v_a, k_a, k_b, Ksp):\n",
        "    return Ksp * k_a * k_b / v_a\n",
        "\n",
        "def find_var(v_a, k_a, k_b, A, B, constants):\n",
        "    Ksp = constants[\"Ksp\"]\n",
        "    ekt = constants[\"ekt\"]\n",
        "\n",
        "    v_b = get_v_b(v_a,k_a,k_b,Ksp)\n",
        "\n",
        "    S = np.sqrt(A * B / Ksp)\n",
        "\n",
        "    i_A = 2 * np.exp(-2 * ekt) * (S**2 - 1) * (v_b * k_a * A)/(k_a * A + v_b)\n",
        "    i_B = 2 * np.exp(-2 * ekt) * (S**2 - 1) * (v_a * k_b * B) / (k_b * B + v_a)\n",
        "    i_super = (i_A + i_B) / 2\n",
        "    i_under = ((v_a * v_b * np.exp(-2 * ekt))/((2 - S**2) * v_b + k_a * A) + ((v_a * v_b * np.exp(-2 * ekt)) / ((2 - S**2) * v_a + k_b * B))) * (1 - S**2)\n",
        "\n",
        "    i = np.maximum(i_super,i_under)\n",
        "\n",
        "    u = np.abs(2 *(k_a * k_b * A * B - v_a * v_b) / (k_a * A + k_b * B + v_a + v_b))\n",
        "\n",
        "    rho = np.sqrt(2 * i / u)\n",
        "\n",
        "    P_a = (k_a * A + v_b) / (k_a * A + k_b * B + v_a + v_b)\n",
        "    P_b = (k_b * B + v_a) / (k_a * A + k_b * B + v_a + v_b) \n",
        "\n",
        "    return rho, u\n",
        "\n",
        "def find_step_v(v_a, k_a, k_b, A, B, constants):\n",
        "    h = constants[\"h\"]\n",
        "\n",
        "    # Change to b\n",
        "    rho, u = find_var(v_a, k_a, k_b, A, B, constants)\n",
        "    return rho * u * h * 10**9\n",
        "\n",
        "def residual_step(x, A, B, step_v, constants):\n",
        "    return find_step_v(x[0], x[1], x[2], A, B, constants) - step_v\n",
        "\n",
        "def minimize_step(x, A, B, step_v, constants):\n",
        "    return np.sum(np.square(residual_step(x, A, B, step_v, constants)))"
      ],
      "execution_count": null,
      "outputs": []
    },
    {
      "cell_type": "markdown",
      "metadata": {
        "id": "gBF24tc4h6Dj"
      },
      "source": [
        "# Plot Function"
      ]
    },
    {
      "cell_type": "code",
      "metadata": {
        "id": "Ok3yxsGUffQp"
      },
      "source": [
        "def plot_step_v(step_v_eqn, barite, sulfate, parameters, step_v,constants):\n",
        "    x = barite / sulfate\n",
        "    x_sort = x.argsort()\n",
        "\n",
        "    plt.plot(x, step_v,'o',label=\"Step Velocity\")\n",
        "    plt.plot(x[x_sort], step_v_eqn(*parameters, barite[x_sort], sulfate[x_sort],constants),'o',label=\"fit\")\n",
        "    plt.ylabel('Step V')\n",
        "    plt.xlabel('Barite / Sulfate ratio')\n",
        "    plt.xscale('log')\n",
        "    plt.legend()\n",
        "    plt.show()"
      ],
      "execution_count": null,
      "outputs": []
    },
    {
      "cell_type": "code",
      "metadata": {
        "id": "vTe277lif-Zg"
      },
      "source": [
        "# Get Data\n",
        "A, B, step_v = util.get_data()\n",
        "constants = util.get_constants()\n",
        "\n",
        "# Define Constraints\n",
        "linear_con = LinearConstraint([0,1,-1], -np.inf, 0)\n",
        "bounds = Bounds(0,np.inf)\n",
        "\n",
        "# Initial Value\n",
        "x0 = np.array([65.08,4.5e05,7.455e06])\n",
        "\n",
        "#%% Optimization\n",
        "min_lsq = minimize(minimize_step, x0, jac=jacobian(minimize_step),hess=hessian(minimize_step),args=(A,B,step_v,constants),method='Newton-CG', options={'maxiter':1000})\n",
        "print(min_lsq)\n",
        "\n",
        "print(\"Parameters: v_a={:.3e}, v_b={:.3e}, k_a={:.3e}, k_b={:.3e}\".format(min_lsq.x[0], get_v_b(*min_lsq.x, constants[\"Ksp\"]), min_lsq.x[1], min_lsq.x[2]))\n",
        "\n",
        "#%% Plot Values\n",
        "plot.plot_step_v(eqn.find_step_v, A, B, min_lsq.x, step_v, constants)\n",
        "\n",
        "#%% Get Residual value\n",
        "print(\"New RSS Value: \",eqn.minimize_step(min_lsq.x, A, B, step_v, constants))\n",
        "print(\"Initial RSS Value: \",eqn.minimize_step(x0, A, B, step_v, constants))"
      ],
      "execution_count": null,
      "outputs": []
    }
  ]
}